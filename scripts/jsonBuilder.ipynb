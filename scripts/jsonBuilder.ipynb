{
 "cells": [
  {
   "cell_type": "code",
   "execution_count": 26,
   "metadata": {},
   "outputs": [
    {
     "name": "stdout",
     "output_type": "stream",
     "text": [
      "Sheets\n",
      "{\"a\": [[\"16\", \"c_fmq\"], [\"49\", \"c_fmq\"], [\"168\", \"c_fmq\"], [\"5\", \"c_fmq\"], [\"217\", \"c_fmq\"], [\"133\", \"c_fmq\"]], \"b\": [[\"256\", \"c_fmq\"], [\"98\", \"c_fmq\"], [\"177\", \"c_fmq\"], [\"231\", \"c_fmq\"], [\"172\", \"c_fmq\"], [\"229\", \"c_fmq\"], [\"195\", \"c_fmq\"]]}\n",
      "Combined\n",
      "[[\"16\", \"c_fmq\"], [\"5\", \"c_fmq\"], [\"133\", \"c_fmq\"], [\"172\", \"c_fmq\"], [\"168\", \"c_fmq\"], [\"195\", \"c_fmq\"], [\"229\", \"c_fmq\"], [\"256\", \"c_fmq\"], [\"177\", \"c_fmq\"], [\"98\", \"c_fmq\"], [\"231\", \"c_fmq\"], [\"49\", \"c_fmq\"], [\"217\", \"c_fmq\"]]\n"
     ]
    },
    {
     "data": {
      "text/plain": [
       "[['16', 'c_fmq'],\n",
       " ['5', 'c_fmq'],\n",
       " ['133', 'c_fmq'],\n",
       " ['172', 'c_fmq'],\n",
       " ['168', 'c_fmq'],\n",
       " ['195', 'c_fmq'],\n",
       " ['229', 'c_fmq'],\n",
       " ['256', 'c_fmq'],\n",
       " ['177', 'c_fmq'],\n",
       " ['98', 'c_fmq'],\n",
       " ['231', 'c_fmq'],\n",
       " ['49', 'c_fmq'],\n",
       " ['217', 'c_fmq']]"
      ]
     },
     "execution_count": 26,
     "metadata": {},
     "output_type": "execute_result"
    }
   ],
   "source": [
    "import requests\n",
    "import random\n",
    "import json\n",
    "\n",
    "def getRaritySheet(rarity = \"C\"):\n",
    "    response = requests.get(\n",
    "        f\"https://www.planesculptors.net/set/blood-like-rivers?json\",\n",
    "        headers={\n",
    "            \"User-Agent\": \"Python 3.9.13 CERA\",\n",
    "        },\n",
    "    )\n",
    "    data: dict = response.json()\n",
    "    cards: dict[str, dict] = data[\"cards\"]\n",
    "    set = \"c_fmq\"\n",
    "    w = []\n",
    "    u = []\n",
    "    r = []\n",
    "    b = []\n",
    "    g = []\n",
    "    n = []\n",
    "    for k, c in cards.items():\n",
    "        if  c[\"rarity\"] == rarity:\n",
    "            if c[\"colors\"] is None:\n",
    "                n.append([c[\"cardNumber\"], set])\n",
    "                continue\n",
    "            if c[\"colors\"] == \"B\" or \"B\" in c[\"colors\"]:\n",
    "                b.append([c[\"cardNumber\"], set])\n",
    "                continue\n",
    "            if c[\"colors\"] == \"G\" or \"G\" in c[\"colors\"]:\n",
    "                g.append([c[\"cardNumber\"], set])\n",
    "                continue\n",
    "            if c[\"colors\"] == \"W\" or \"W\" in c[\"colors\"]:\n",
    "                w.append([c[\"cardNumber\"], set])\n",
    "                continue\n",
    "            if c[\"colors\"] == \"U\" or \"U\" in c[\"colors\"]:\n",
    "                u.append([c[\"cardNumber\"], set])\n",
    "                continue\n",
    "            if c[\"colors\"] == \"R\" or \"R\" in c[\"colors\"]:\n",
    "                r.append([c[\"cardNumber\"], set])\n",
    "                continue\n",
    "    random.shuffle(b)\n",
    "    random.shuffle(g)\n",
    "    random.shuffle(n)\n",
    "    random.shuffle(r)\n",
    "    random.shuffle(w)\n",
    "    random.shuffle(u)\n",
    "    side_a = []\n",
    "    for aa, bb, cc in zip(w, u, r):\n",
    "        side_a.append(aa)\n",
    "        side_a.append(bb)\n",
    "        side_a.append(cc)\n",
    "    side_b = []\n",
    "    for dd, ee in zip(b, g):\n",
    "        side_b.append(dd)\n",
    "        side_b.append(ee)\n",
    "    for i, f in enumerate(n):\n",
    "        side_b.insert(i * 3, f)\n",
    "    sheets = {\n",
    "        \"a\": side_a,\n",
    "        \"b\": side_b\n",
    "    }\n",
    "    print(\"Sheets\")\n",
    "    print(json.dumps(sheets))\n",
    "    print(\"Combined\")\n",
    "    combined = []\n",
    "    combined.extend(side_a)\n",
    "    combined.extend(side_b)\n",
    "    random.shuffle(combined)\n",
    "    print(json.dumps(combined))\n",
    "    return combined\n",
    "getRaritySheet(\"M\")"
   ]
  }
 ],
 "metadata": {
  "kernelspec": {
   "display_name": "Python 3.10.8 64-bit (microsoft store)",
   "language": "python",
   "name": "python3"
  },
  "language_info": {
   "codemirror_mode": {
    "name": "ipython",
    "version": 3
   },
   "file_extension": ".py",
   "mimetype": "text/x-python",
   "name": "python",
   "nbconvert_exporter": "python",
   "pygments_lexer": "ipython3",
   "version": "3.10.8"
  },
  "orig_nbformat": 4,
  "vscode": {
   "interpreter": {
    "hash": "07e91f374489ade38736111aeea47b761c5e60d454ae7ab164fb6ce784e5f467"
   }
  }
 },
 "nbformat": 4,
 "nbformat_minor": 2
}
